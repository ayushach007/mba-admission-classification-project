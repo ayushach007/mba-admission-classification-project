{
 "cells": [
  {
   "cell_type": "code",
   "execution_count": 1,
   "metadata": {},
   "outputs": [],
   "source": [
    "import os"
   ]
  },
  {
   "cell_type": "code",
   "execution_count": 2,
   "metadata": {},
   "outputs": [],
   "source": [
    "os.chdir('../')"
   ]
  },
  {
   "cell_type": "code",
   "execution_count": 3,
   "metadata": {},
   "outputs": [
    {
     "data": {
      "text/plain": [
       "'c:\\\\Users\\\\ayush\\\\OneDrive - Sujal Dhungana\\\\MBA Admission Classification Project'"
      ]
     },
     "execution_count": 3,
     "metadata": {},
     "output_type": "execute_result"
    }
   ],
   "source": [
    "%pwd"
   ]
  },
  {
   "cell_type": "code",
   "execution_count": 4,
   "metadata": {},
   "outputs": [],
   "source": [
    "import pandas as pd\n",
    "from src.utils.common import load_object\n",
    "import sys\n",
    "from src.logger import logging\n",
    "from src.exception import CustomException\n",
    "import warnings \n",
    "\n",
    "warnings.filterwarnings('ignore')"
   ]
  },
  {
   "cell_type": "code",
   "execution_count": 6,
   "metadata": {},
   "outputs": [],
   "source": [
    "class PredictionPipeline:\n",
    "    '''\n",
    "    This class is used to predict the target using the input features\n",
    "    '''\n",
    "    def __init__(self) -> None:\n",
    "        pass\n",
    "\n",
    "    def predict(self, features):\n",
    "        '''\n",
    "        This method is used to predict the target using the input features\n",
    "        \n",
    "        Args:\n",
    "            features : dict : input features\n",
    "        \n",
    "        Returns:\n",
    "            prediction : numpy array : predicted target\n",
    "\n",
    "        Raises:\n",
    "            CustomException : if any exception occurs during prediction\n",
    "        '''\n",
    "        try:\n",
    "            logging.info('Prediction pipeline started')\n",
    "\n",
    "            logging.info('loading preprocessor and model for prediction')\n",
    "            preprocessor_path = 'artifacts/data_transformation/preprocessor.joblib'\n",
    "            preprocessor = load_object(preprocessor_path)\n",
    "            model = load_object('artifacts/model_training/model.pkl')\n",
    "\n",
    "            logging.info('Successfully loaded preprocessor and model for prediction')\n",
    "\n",
    "            logging.info('Transforming input features')\n",
    "            scaled_features = preprocessor.transform(features)\n",
    "            logging.info('Successfully transformed input features')\n",
    "\n",
    "            logging.info('Predicting the target')\n",
    "            prediction = model.predict(scaled_features)\n",
    "            logging.info('Successfully predicted the target')\n",
    "\n",
    "            return prediction\n",
    "        except Exception as e:\n",
    "            raise CustomException(e, sys)"
   ]
  },
  {
   "cell_type": "code",
   "execution_count": 7,
   "metadata": {},
   "outputs": [],
   "source": [
    "class CustomData:\n",
    "    '''\n",
    "    This class is used to create a custom data object which can be used to predict the target\n",
    "    '''\n",
    "\n",
    "    def __init__(self,\n",
    "                 gender: str,\n",
    "                 international: str,\n",
    "                 gpa: float,\n",
    "                 major: str,\n",
    "                 race: str,\n",
    "                 gmat: float,\n",
    "                 work_exp: float,\n",
    "                 work_industry: str):\n",
    "        try:\n",
    "            logging.info('Initializing CustomData object')\n",
    "        \n",
    "            self.gender = gender\n",
    "\n",
    "            self.international = international\n",
    "\n",
    "            self.gpa = gpa\n",
    "\n",
    "            self.major = major\n",
    "\n",
    "            self.race = race\n",
    "\n",
    "            self.gmat = gmat\n",
    "\n",
    "            self.work_exp = work_exp\n",
    "\n",
    "            self.work_industry = work_industry\n",
    "\n",
    "            logging.info('Successfully initialized CustomData object')\n",
    "\n",
    "        except Exception as e:\n",
    "            raise CustomException(str(e))\n",
    "\n",
    "\n",
    "    def get_data_as_dataframe(self) -> pd.DataFrame:\n",
    "        '''\n",
    "        This method is used to convert the input data to a dataframe\n",
    "\n",
    "        Returns:\n",
    "        pd.DataFrame : dataframe containing the input data\n",
    "\n",
    "        Raises:\n",
    "        CustomException : if any error occurs while converting the input data to dataframe\n",
    "        '''\n",
    "        try:\n",
    "            logging.info('Converting input data to dataframe')\n",
    "            data = {\n",
    "                \"gender\" : [self.gender],\n",
    "                \"international\" : [self.international],\n",
    "                \"gpa\" : [self.gpa],\n",
    "                \"major\" : [self.major],\n",
    "                \"race\" : [self.race],\n",
    "                \"gmat\" : [self.gmat],\n",
    "                \"work_exp\" : [self.work_exp],\n",
    "                \"work_industry\" : [self.work_industry]\n",
    "            }\n",
    "\n",
    "            df = pd.DataFrame(data)\n",
    "\n",
    "            logging.info('Successfully converted input data to dataframe')\n",
    "\n",
    "            return df\n",
    "        except Exception as e:\n",
    "            raise CustomException(str(e))\n"
   ]
  },
  {
   "cell_type": "code",
   "execution_count": 21,
   "metadata": {},
   "outputs": [
    {
     "name": "stdout",
     "output_type": "stream",
     "text": [
      "Prediction : Waitlisted\n"
     ]
    }
   ],
   "source": [
    "data = CustomData('M', 'True', 3.7, 'Business', 'Black', 700, 2, 'Finance')\n",
    "data = data.get_data_as_dataframe()\n",
    "\n",
    "\n",
    "pipeline = PredictionPipeline()\n",
    "prediction = pipeline.predict(data)\n",
    "\n",
    "if prediction[0] == 0:\n",
    "    print('Prediction : Admitted')\n",
    "elif prediction[0] == 1:\n",
    "    print('Prediction : Rejected')\n",
    "else:\n",
    "    print('Prediction : Waitlisted')"
   ]
  },
  {
   "cell_type": "code",
   "execution_count": null,
   "metadata": {},
   "outputs": [],
   "source": []
  }
 ],
 "metadata": {
  "kernelspec": {
   "display_name": "admission",
   "language": "python",
   "name": "python3"
  },
  "language_info": {
   "codemirror_mode": {
    "name": "ipython",
    "version": 3
   },
   "file_extension": ".py",
   "mimetype": "text/x-python",
   "name": "python",
   "nbconvert_exporter": "python",
   "pygments_lexer": "ipython3",
   "version": "3.11.0"
  }
 },
 "nbformat": 4,
 "nbformat_minor": 2
}
