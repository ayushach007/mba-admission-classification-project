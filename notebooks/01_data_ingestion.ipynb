{
 "cells": [
  {
   "cell_type": "code",
   "execution_count": 1,
   "metadata": {},
   "outputs": [],
   "source": [
    "import os"
   ]
  },
  {
   "cell_type": "code",
   "execution_count": 2,
   "metadata": {},
   "outputs": [
    {
     "data": {
      "text/plain": [
       "'c:\\\\Users\\\\ayush\\\\OneDrive - Sujal Dhungana\\\\MBA Admission Classification Project\\\\notebooks'"
      ]
     },
     "execution_count": 2,
     "metadata": {},
     "output_type": "execute_result"
    }
   ],
   "source": [
    "%pwd"
   ]
  },
  {
   "cell_type": "code",
   "execution_count": 3,
   "metadata": {},
   "outputs": [],
   "source": [
    "os.chdir('c:\\\\Users\\\\ayush\\\\OneDrive - Sujal Dhungana\\\\MBA Admission Classification Project')"
   ]
  },
  {
   "cell_type": "code",
   "execution_count": 4,
   "metadata": {},
   "outputs": [
    {
     "data": {
      "text/plain": [
       "'c:\\\\Users\\\\ayush\\\\OneDrive - Sujal Dhungana\\\\MBA Admission Classification Project'"
      ]
     },
     "execution_count": 4,
     "metadata": {},
     "output_type": "execute_result"
    }
   ],
   "source": [
    "%pwd"
   ]
  },
  {
   "cell_type": "code",
   "execution_count": 1,
   "metadata": {},
   "outputs": [
    {
     "data": {
      "text/plain": [
       "True"
      ]
     },
     "execution_count": 1,
     "metadata": {},
     "output_type": "execute_result"
    }
   ],
   "source": [
    "import pandas as pd\n",
    "import numpy as np\n",
    "import mysql.connector as mysql\n",
    "from dotenv.main import load_dotenv\n",
    "import warnings\n",
    "from dataclasses import dataclass\n",
    "from pathlib import Path\n",
    "from src import *\n",
    "from src.utils.common import read_sql_data, read_yaml_file, create_directory\n",
    "from src.logger import logging\n",
    "from src.exception import CustomException\n",
    "warnings.filterwarnings('ignore')\n",
    "import sys\n",
    "from sklearn.model_selection import train_test_split\n",
    "load_dotenv()"
   ]
  },
  {
   "cell_type": "code",
   "execution_count": 6,
   "metadata": {},
   "outputs": [],
   "source": [
    "@dataclass(frozen=True)\n",
    "class DataIngestionConfig:\n",
    "    raw_data_path: Path\n",
    "    train_data_path: Path\n",
    "    test_data_path: Path"
   ]
  },
  {
   "cell_type": "code",
   "execution_count": 7,
   "metadata": {},
   "outputs": [],
   "source": [
    "class ConfigurationManager:\n",
    "    def __init__(self,\n",
    "                  config_file_path = CONFIG_FILE_PATH,\n",
    "                  params_file_path = PARAMS_FILE_PATH):\n",
    "        try:\n",
    "            self.config = read_yaml_file(config_file_path)\n",
    "\n",
    "            logging.info(\"Configuration and Parameters files have been read successfully\")\n",
    "\n",
    "            logging.info(\"Creating directories to store artifacts\")\n",
    "            create_directory([self.config.artifacts_directory])\n",
    "            logging.info(\"Directories have been created successfully\")\n",
    "        except Exception as e:\n",
    "            raise CustomException(e, sys)\n",
    "\n",
    "    def get_data_ingestion_config(self) -> DataIngestionConfig:\n",
    "        try:\n",
    "            config = self.config.data_ingestion\n",
    "\n",
    "            logging.info(\"Creating root directory to store raw data, train data and test data\")\n",
    "\n",
    "            create_directory([config.root_dir])\n",
    "\n",
    "            logging.info(\"Root directory has been created successfully\")\n",
    "\n",
    "            logging.info(\"Assigning paths to raw data, train data and test data\")\n",
    "\n",
    "            data_ingestion_config = DataIngestionConfig(\n",
    "                raw_data_path = config.raw_data_path,\n",
    "                train_data_path = config.train_data_path,\n",
    "                test_data_path = config.test_data_path\n",
    "            )\n",
    "\n",
    "            logging.info(\"Paths have been assigned successfully\")\n",
    "\n",
    "            return data_ingestion_config\n",
    "        \n",
    "        except Exception as e:\n",
    "            raise CustomException(e, sys)\n",
    "    \n",
    "        "
   ]
  },
  {
   "cell_type": "code",
   "execution_count": 8,
   "metadata": {},
   "outputs": [],
   "source": [
    "class DataIngestion:\n",
    "    def __init__(self, config: DataIngestionConfig):\n",
    "        self.config = config\n",
    "\n",
    "    def initiate_data_ingestion(self) -> pd.DataFrame:\n",
    "        try:\n",
    "            logging.info(\"Reading data from MySQL database\")\n",
    "            data = read_sql_data()\n",
    "            logging.info(\"Data has been read successfully\")\n",
    "\n",
    "            logging.info(\"Saving data to raw data directory\")\n",
    "            data.to_csv(self.config.raw_data_path, index=False, header=True)\n",
    "            logging.info(f\"Raw has been saved successfully at {self.config.raw_data_path}\")\n",
    "\n",
    "            logging.info(\"Splitting data into train and test data\")\n",
    "            train, test = train_test_split(data, test_size=0.3, random_state=42)\n",
    "            logging.info(\"Data has been split successfully\")\n",
    "\n",
    "            logging.info(\"Saving train data to train data directory\")\n",
    "            train.to_csv(self.config.train_data_path, index=False, header=True)\n",
    "            logging.info(f\"Train data has been saved successfully at {self.config.train_data_path}\")\n",
    "\n",
    "            logging.info(\"Saving test data to test data directory\")\n",
    "            test.to_csv(self.config.test_data_path, index=False, header=True)\n",
    "            logging.info(f\"Test data has been saved successfully at {self.config.test_data_path}\")\n",
    "            \n",
    "            return (\n",
    "                self.config.train_data_path,\n",
    "                self.config.test_data_path\n",
    "            )\n",
    "        \n",
    "        except Exception as e:\n",
    "            raise CustomException(e, sys)\n",
    "\n",
    "    "
   ]
  },
  {
   "cell_type": "code",
   "execution_count": 9,
   "metadata": {},
   "outputs": [],
   "source": [
    "if __name__ == \"__main__\":\n",
    "    try:\n",
    "        config_manager = ConfigurationManager()\n",
    "        data_ingestion_config = config_manager.get_data_ingestion_config()\n",
    "        data_ingestion = DataIngestion(data_ingestion_config)\n",
    "        data_ingestion.initiate_data_ingestion()\n",
    "    except Exception as e:\n",
    "        raise CustomException(e, sys)"
   ]
  },
  {
   "cell_type": "code",
   "execution_count": null,
   "metadata": {},
   "outputs": [],
   "source": []
  }
 ],
 "metadata": {
  "kernelspec": {
   "display_name": "admission",
   "language": "python",
   "name": "python3"
  },
  "language_info": {
   "codemirror_mode": {
    "name": "ipython",
    "version": 3
   },
   "file_extension": ".py",
   "mimetype": "text/x-python",
   "name": "python",
   "nbconvert_exporter": "python",
   "pygments_lexer": "ipython3",
   "version": "3.11.0"
  }
 },
 "nbformat": 4,
 "nbformat_minor": 2
}
